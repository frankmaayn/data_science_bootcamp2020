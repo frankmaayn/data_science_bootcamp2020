{
 "cells": [
  {
   "cell_type": "code",
   "execution_count": 1,
   "metadata": {},
   "outputs": [
    {
     "name": "stdout",
     "output_type": "stream",
     "text": [
      "Invalid password! Must only contain letters and digits\n",
      "\n"
     ]
    }
   ],
   "source": [
    "#8.3\n",
    "def passwordCheck( n):\n",
    "\n",
    "    digitCount = 0 \n",
    "    strIndex = 0\n",
    "    invalid = False\n",
    "    #Checks every character in the string\n",
    "    for strIndex in range(len(n)):\n",
    "        \n",
    "        checkIndex = n[strIndex]\n",
    "\n",
    "        if (checkIndex.isdigit()):\n",
    "            digitCount += 1\n",
    "            strIndex += 1\n",
    "        elif(checkIndex.isalpha()):\n",
    "            strIndex += 1            \n",
    "        else:\n",
    "            invalid = True\n",
    "    \n",
    "    if invalid == True:\n",
    "        print(\"Invalid password! Must only contain letters and digits\\n\")\n",
    "    elif len(n) < 8 :\n",
    "        print(\"Invalid password! Must have at least 8 chacters\\n\")\n",
    "    elif digitCount < 2:\n",
    "        print(\"Invalid password! Must have at least two digits\\n\")\n",
    "    else:\n",
    "        print(n, \" is a valid password\\n\")\n",
    "\n",
    "password = '1lm2$$$'\n",
    "passwordCheck(password)"
   ]
  },
  {
   "cell_type": "code",
   "execution_count": 2,
   "metadata": {},
   "outputs": [
    {
     "name": "stdout",
     "output_type": "stream",
     "text": [
      "\n",
      "Exercise 8.4\n",
      "The character  e  occurs  2\n"
     ]
    }
   ],
   "source": [
    "#8.4\n",
    "def counts(s, ch):\n",
    "    word = s\n",
    "    charac = ch \n",
    "    characterCount = 0\n",
    "    index = 0\n",
    "    for index in range(len(word)):\n",
    "        if (ch == word[index]):\n",
    "            characterCount += 1\n",
    "        else:\n",
    "            continue\n",
    "    \n",
    "    print(\"\\nExercise 8.4\\nThe character \", charac, \" occurs \", characterCount)\n",
    "\n",
    "counts(\"Welcome\", 'e')"
   ]
  },
  {
   "cell_type": "code",
   "execution_count": null,
   "metadata": {},
   "outputs": [],
   "source": []
  }
 ],
 "metadata": {
  "kernelspec": {
   "display_name": "Python 3",
   "language": "python",
   "name": "python3"
  },
  "language_info": {
   "codemirror_mode": {
    "name": "ipython",
    "version": 3
   },
   "file_extension": ".py",
   "mimetype": "text/x-python",
   "name": "python",
   "nbconvert_exporter": "python",
   "pygments_lexer": "ipython3",
   "version": "3.8.3"
  }
 },
 "nbformat": 4,
 "nbformat_minor": 4
}

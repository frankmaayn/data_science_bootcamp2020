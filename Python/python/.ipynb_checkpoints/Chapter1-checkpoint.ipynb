{
 "cells": [
  {
   "cell_type": "code",
   "execution_count": 1,
   "metadata": {},
   "outputs": [
    {
     "name": "stdout",
     "output_type": "stream",
     "text": [
      "Welcome to Python\n",
      "Welcome to Computer Science\n",
      "Programming is fun\n",
      "\n"
     ]
    }
   ],
   "source": [
    "#1.1\n",
    "print(\"Welcome to Python\\nWelcome to Computer Science\\nProgramming is fun\\n\")"
   ]
  },
  {
   "cell_type": "code",
   "execution_count": 2,
   "metadata": {},
   "outputs": [
    {
     "name": "stdout",
     "output_type": "stream",
     "text": [
      "Welcome to Python\n",
      "Welcome to Python\n",
      "Welcome to Python\n",
      "Welcome to Python\n",
      "Welcome to Python\n"
     ]
    }
   ],
   "source": [
    "#1.2\n",
    "for x in range(5):\n",
    "    print(\"Welcome to Python\")"
   ]
  },
  {
   "cell_type": "code",
   "execution_count": 3,
   "metadata": {},
   "outputs": [
    {
     "name": "stdout",
     "output_type": "stream",
     "text": [
      "FFFFFFF    U     U    NN     NN\n",
      "FF         U     U    NNN    NN\n",
      "FFFFFFF    U     U    NN N   NN\n",
      "FF          U   U     NN  N  NN\n",
      "FF           UUU      NN    NNN\n"
     ]
    }
   ],
   "source": [
    "#1.3\n",
    "print(\"FFFFFFF    U     U    NN     NN\")\n",
    "print(\"FF         U     U    NNN    NN\")\n",
    "print(\"FFFFFFF    U     U    NN N   NN\")\n",
    "print(\"FF          U   U     NN  N  NN\")\n",
    "print(\"FF           UUU      NN    NNN\")"
   ]
  },
  {
   "cell_type": "code",
   "execution_count": 4,
   "metadata": {},
   "outputs": [
    {
     "name": "stdout",
     "output_type": "stream",
     "text": [
      "a       a^2       a^3\n",
      "1       1         1\n",
      "2       4         8\n",
      "3       9         24\n",
      "4       16        64\n"
     ]
    }
   ],
   "source": [
    "#1.4\n",
    "print(\"a       a^2       a^3\")\n",
    "print(\"1       1         1\")\n",
    "print(\"2       4         8\")\n",
    "print(\"3       9         24\")\n",
    "print(\"4       16        64\")"
   ]
  },
  {
   "cell_type": "code",
   "execution_count": 5,
   "metadata": {},
   "outputs": [
    {
     "name": "stdout",
     "output_type": "stream",
     "text": [
      "0.8392857142857143\n"
     ]
    }
   ],
   "source": [
    "#1.5\n",
    "numerator = (9.5 * 4.5)-(2.5*3)\n",
    "denominator = (45.5-3.5)\n",
    "result = numerator/denominator\n",
    "print(result)"
   ]
  },
  {
   "cell_type": "code",
   "execution_count": 6,
   "metadata": {},
   "outputs": [
    {
     "name": "stdout",
     "output_type": "stream",
     "text": [
      "45\n"
     ]
    }
   ],
   "source": [
    "#1.6\n",
    "result = 1+2+3+4+5+6+7+8+9\n",
    "print(result)"
   ]
  },
  {
   "cell_type": "code",
   "execution_count": 7,
   "metadata": {},
   "outputs": [
    {
     "name": "stdout",
     "output_type": "stream",
     "text": [
      "The first answer is :  2.9760461760461765 \n",
      "The second answer is :  3.017071817071818\n"
     ]
    }
   ],
   "source": [
    "#1.7\n",
    "first = 4 * ((1)-(1/3)+(1/5)-(1/7)+(1/9)-(1/11))\n",
    "second = 4 * ((1)-(1/3)+(1/5)-(1/7)+(1/9)-(1/11)+(1/13)-(1/15))\n",
    "print(\"The first answer is : \", first, \"\\nThe second answer is : \", second)"
   ]
  },
  {
   "cell_type": "code",
   "execution_count": 8,
   "metadata": {},
   "outputs": [
    {
     "name": "stdout",
     "output_type": "stream",
     "text": [
      "The area is :  94.985 \n",
      "The perimeter is :  34.54\n"
     ]
    }
   ],
   "source": [
    "#1.8\n",
    "r = 5.5\n",
    "area = r * r * 3.14\n",
    "perimeter = 2 * r * 3.14\n",
    "print(\"The area is : \", area, \"\\nThe perimeter is : \", perimeter)"
   ]
  },
  {
   "cell_type": "code",
   "execution_count": 9,
   "metadata": {},
   "outputs": [
    {
     "name": "stdout",
     "output_type": "stream",
     "text": [
      "Area is :  35.550000000000004\n"
     ]
    }
   ],
   "source": [
    "#1.9\n",
    "width = 4.5\n",
    "height = 7.9\n",
    "area = width * height\n",
    "print(\"Area is : \", area)"
   ]
  },
  {
   "cell_type": "code",
   "execution_count": 10,
   "metadata": {},
   "outputs": [
    {
     "name": "stdout",
     "output_type": "stream",
     "text": [
      "Average:  11.538461538461538\n"
     ]
    }
   ],
   "source": [
    "#1.10\n",
    "hours = (((30)*(1/60)) + 45)*(1/60)\n",
    "miles = 14/1.6\n",
    "average = miles/hours\n",
    "print(\"Average: \",average)"
   ]
  },
  {
   "cell_type": "code",
   "execution_count": 11,
   "metadata": {},
   "outputs": [],
   "source": [
    "#1.11\n",
    "import turtle\n",
    "turtle.color(\"blue\")\n",
    "turtle.goto(0,50)\n",
    "turtle.goto(0,-50)\n",
    "turtle.penup()\n",
    "turtle.goto(50,0)\n",
    "turtle.pendown()\n",
    "turtle.goto(-50,0)"
   ]
  }
 ],
 "metadata": {
  "kernelspec": {
   "display_name": "Python 3",
   "language": "python",
   "name": "python3"
  },
  "language_info": {
   "codemirror_mode": {
    "name": "ipython",
    "version": 3
   },
   "file_extension": ".py",
   "mimetype": "text/x-python",
   "name": "python",
   "nbconvert_exporter": "python",
   "pygments_lexer": "ipython3",
   "version": "3.8.3"
  }
 },
 "nbformat": 4,
 "nbformat_minor": 4
}

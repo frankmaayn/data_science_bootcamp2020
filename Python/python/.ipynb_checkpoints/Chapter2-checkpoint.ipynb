{
 "cells": [
  {
   "cell_type": "code",
   "execution_count": 2,
   "metadata": {},
   "outputs": [
    {
     "name": "stdout",
     "output_type": "stream",
     "text": [
      "Enter a degree in Celsius: 45\n",
      "Celsius is  113.0  Fahrenhei\n"
     ]
    }
   ],
   "source": [
    "import math \n",
    "#2.1\n",
    "celsius = float(input(\"Enter a degree in Celsius: \"))\n",
    "fahrenheit = (9/5) * celsius +32\n",
    "print(\"Celsius is \", fahrenheit, \" Fahrenhei\")"
   ]
  },
  {
   "cell_type": "code",
   "execution_count": null,
   "metadata": {},
   "outputs": [],
   "source": [
    "#2.2\n",
    "radius = input(\"Enter radius : \")\n",
    "length = input(\"Enter length : \")\n",
    "area = radius * radius * 3.14\n",
    "volume = area * length\n",
    "print(\"The area is \", area, \"\\nThe volume is \", volume)"
   ]
  },
  {
   "cell_type": "code",
   "execution_count": null,
   "metadata": {},
   "outputs": [],
   "source": [
    "#2.3\n",
    "feet = input(\"Enter a feet :\")\n",
    "meters = feet /0.305\n",
    "print(feet, \" is equal to \", meters, \" meters\")"
   ]
  },
  {
   "cell_type": "code",
   "execution_count": null,
   "metadata": {},
   "outputs": [],
   "source": [
    "\n",
    "#2.4\n",
    "p = input(\"Enter a lbs: \")\n",
    "kg = p *0.454\n",
    "print(p, \" lbs is \", kg, \" kilogram\")"
   ]
  },
  {
   "cell_type": "code",
   "execution_count": null,
   "metadata": {},
   "outputs": [],
   "source": []
  }
 ],
 "metadata": {
  "kernelspec": {
   "display_name": "Python 3",
   "language": "python",
   "name": "python3"
  },
  "language_info": {
   "codemirror_mode": {
    "name": "ipython",
    "version": 3
   },
   "file_extension": ".py",
   "mimetype": "text/x-python",
   "name": "python",
   "nbconvert_exporter": "python",
   "pygments_lexer": "ipython3",
   "version": "3.8.3"
  }
 },
 "nbformat": 4,
 "nbformat_minor": 4
}

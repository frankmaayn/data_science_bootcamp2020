{
 "cells": [
  {
   "cell_type": "code",
   "execution_count": 24,
   "metadata": {},
   "outputs": [],
   "source": [
    "def processLine(line, wordCounts):\n",
    "    line = replacePunctuations(line)\n",
    "    words = line.split()\n",
    "    for word in words:\n",
    "        if word in wordCounts:\n",
    "            wordCounts[word] += 1\n",
    "        else:\n",
    "            wordCounts[word] = 1"
   ]
  },
  {
   "cell_type": "code",
   "execution_count": 25,
   "metadata": {},
   "outputs": [],
   "source": [
    "def replacePunctuations(line):\n",
    "    for ch in line:\n",
    "        if ch in \"~@#$%^&*()_-+=~<>?/,.;:!{}[]|'\\\"\":\n",
    "            line = line.replace(ch, \" \")\n",
    "    return line"
   ]
  },
  {
   "cell_type": "code",
   "execution_count": 27,
   "metadata": {},
   "outputs": [
    {
     "name": "stdout",
     "output_type": "stream",
     "text": [
      "[['a', 1], ['asking', 1], ['been', 1], ['before', 9], ['behind', 3], ['better', 2], ['between', 1], ['break', 6], ['came', 1], ['can', 1], ['caught', 2], ['did', 3], ['do', 5], ['don', 3], ['even', 3], ['fate', 3], ['for', 16], ['get', 2], ['give', 1], ['going', 1], ['gonna', 6], ['have', 1], ['heart', 22], ['here', 5], ['hey', 3], ['how', 2], ['i', 30], ['if', 5], ['is', 1], ['it', 3], ['just', 1], ['late', 3], ['leave', 9], ['ll', 3], ['love', 6], ['m', 14], ['me', 3], ['mine', 3], ['myself', 1], ['nah', 36], ['not', 3], ['now', 1], ['on', 3], ['or', 1], ['our', 3], ['own', 3], ['re', 1], ['reason', 1], ['s', 4], ['said', 1], ['so', 8], ['someone', 3], ['stay', 4], ['still', 3], ['t', 4], ['takeaway', 16], ['that', 1], ['think', 1], ['this', 3], ['three', 1], ['to', 4], ['up', 2], ['us', 1], ['ve', 1], ['want', 4], ['we', 6], ['weeks', 1], ['what', 3], ['where', 1], ['why', 1], ['wrong', 1], ['yeah', 56], ['you', 20], ['your', 22]]\n"
     ]
    }
   ],
   "source": [
    "filename = \"song.txt\"\n",
    "infile = open(filename, 'r')\n",
    "\n",
    "wordCounts= {}\n",
    "\n",
    "for line in infile:\n",
    "    processLine(line.lower(), wordCounts)\n",
    "\n",
    "pairs = list(wordCounts.items())\n",
    "\n",
    "items = [[x,y] for (x,y) in pairs]\n",
    "items.sort()\n",
    "\n",
    "print(items)"
   ]
  },
  {
   "cell_type": "code",
   "execution_count": null,
   "metadata": {},
   "outputs": [],
   "source": []
  }
 ],
 "metadata": {
  "kernelspec": {
   "display_name": "Python 3",
   "language": "python",
   "name": "python3"
  },
  "language_info": {
   "codemirror_mode": {
    "name": "ipython",
    "version": 3
   },
   "file_extension": ".py",
   "mimetype": "text/x-python",
   "name": "python",
   "nbconvert_exporter": "python",
   "pygments_lexer": "ipython3",
   "version": "3.8.3"
  }
 },
 "nbformat": 4,
 "nbformat_minor": 4
}

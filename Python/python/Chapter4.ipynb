{
 "cells": [
  {
   "cell_type": "code",
   "execution_count": null,
   "metadata": {},
   "outputs": [],
   "source": [
    "#Practice 4.31\n",
    "\n",
    "x0,y0 = #enter two numbers separated by comma\n",
    "x1,y1 = #enter two numbers separated by comma\n",
    "x2,y2 = #enter two numbers separated by comma\n",
    "p2 = 0\n",
    "\n",
    "result = ((x1 - x0) * (y2 - y0)) - ((x2 - x0) * (y1-y0))\n",
    "\n",
    "if result > 0:\n",
    "    print(\"p2 is on the left side of the line\")\n",
    "elif result == 0:\n",
    "    print(\"p2 is on the same line\") \n",
    "else:\n",
    "    print(\"p2 is on the right side of the line\")\n",
    "    "
   ]
  }
 ],
 "metadata": {
  "kernelspec": {
   "display_name": "Python 3",
   "language": "python",
   "name": "python3"
  },
  "language_info": {
   "codemirror_mode": {
    "name": "ipython",
    "version": 3
   },
   "file_extension": ".py",
   "mimetype": "text/x-python",
   "name": "python",
   "nbconvert_exporter": "python",
   "pygments_lexer": "ipython3",
   "version": "3.8.3"
  }
 },
 "nbformat": 4,
 "nbformat_minor": 4
}

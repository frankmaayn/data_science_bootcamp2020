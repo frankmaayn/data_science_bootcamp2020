{
 "cells": [
  {
   "cell_type": "code",
   "execution_count": 1,
   "metadata": {},
   "outputs": [
    {
     "name": "stdout",
     "output_type": "stream",
     "text": [
      "1 5 12 22 35 51 70 92 117 145 \n",
      "\n",
      "176 210 247 287 330 376 425 477 532 590 \n",
      "\n",
      "651 715 782 852 925 1001 1080 1162 1247 1335 \n",
      "\n",
      "1426 1520 1617 1717 1820 1926 2035 2147 2262 2380 \n",
      "\n",
      "2501 2625 2752 2882 3015 3151 3290 3432 3577 3725 \n",
      "\n",
      "3876 4030 4187 4347 4510 4676 4845 5017 5192 5370 \n",
      "\n",
      "5551 5735 5922 6112 6305 6501 6700 6902 7107 7315 \n",
      "\n",
      "7526 7740 7957 8177 8400 8626 8855 9087 9322 9560 \n",
      "\n",
      "9801 10045 10292 10542 10795 11051 11310 11572 11837 12105 \n",
      "\n",
      "12376 12650 12927 13207 13490 13776 14065 14357 14652 14950 \n",
      "\n"
     ]
    }
   ],
   "source": [
    "import math\n",
    "#6.1\n",
    "\n",
    "def getPentagonalNumber(n):\n",
    "    #calculate the number using formula\n",
    "    calc = n*((3*n)-1)/2\n",
    "    return calc\n",
    "    \n",
    "i = 1\n",
    "max = 101\n",
    "lineNumber = 0\n",
    "\n",
    "while i < 101:\n",
    "    if lineNumber < 9:\n",
    "        result = getPentagonalNumber(i)\n",
    "        print( int(result), end = ' ')\n",
    "        lineNumber += 1\n",
    "        i += 1\n",
    "    elif lineNumber == 9:\n",
    "        result = getPentagonalNumber(i)\n",
    "        print(int(result), '\\n')\n",
    "        lineNumber = 0\n",
    "        i += 1\n",
    "    else:\n",
    "        print(\"\\nError\\n\")"
   ]
  },
  {
   "cell_type": "code",
   "execution_count": null,
   "metadata": {},
   "outputs": [],
   "source": [
    "#6.2\n",
    "s = input(\"Enter a number : \")\n",
    "list = s.split()\n",
    "size = len(s)\n",
    "i = 0\n",
    "num1 = 0\n",
    "while i < size:\n",
    "    num2 = int(list[0][i])\n",
    "    num1 += num2  \n",
    "    i += 1\n",
    " \n",
    "print(num1, \" this is the result for practice Exercise 6.2 \\n\")"
   ]
  },
  {
   "cell_type": "code",
   "execution_count": 2,
   "metadata": {},
   "outputs": [
    {
     "name": "stdout",
     "output_type": "stream",
     "text": [
      "\n",
      "Exercise 6.34\n",
      "The area of the polygon is  4.0\n"
     ]
    }
   ],
   "source": [
    "#6.34\n",
    "\n",
    "def area(n, side):\n",
    "    \n",
    "    if ( n < 0 and side < 0):\n",
    "        print(\"\\nExercises 6.34\\nNumbers entered are not valid\\n\")\n",
    "    \n",
    "    else:\n",
    "    \n",
    "        length = float(n)\n",
    "        numberSide = float(side)\n",
    "        \n",
    "        #Calculate tan\n",
    "        tan = math.tan(math.pi/numberSide)\n",
    "        \n",
    "        #Calculate numerator\n",
    "        numer = numberSide * (length **2)\n",
    "        \n",
    "        #Calculate denominator\n",
    "        denom = 4 * tan\n",
    "        \n",
    "        #Calculate area\n",
    "        area = numer / denom\n",
    "        \n",
    "        #Display result\n",
    "        print(\"\\nExercise 6.34\\nThe area of the polygon is \", round(area,2))\n",
    "   \n",
    "area(2, 4)"
   ]
  },
  {
   "cell_type": "code",
   "execution_count": null,
   "metadata": {},
   "outputs": [],
   "source": []
  }
 ],
 "metadata": {
  "kernelspec": {
   "display_name": "Python 3",
   "language": "python",
   "name": "python3"
  },
  "language_info": {
   "codemirror_mode": {
    "name": "ipython",
    "version": 3
   },
   "file_extension": ".py",
   "mimetype": "text/x-python",
   "name": "python",
   "nbconvert_exporter": "python",
   "pygments_lexer": "ipython3",
   "version": "3.8.3"
  }
 },
 "nbformat": 4,
 "nbformat_minor": 4
}

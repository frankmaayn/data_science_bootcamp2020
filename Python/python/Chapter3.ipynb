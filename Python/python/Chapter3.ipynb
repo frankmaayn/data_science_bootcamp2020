{
 "cells": [
  {
   "cell_type": "code",
   "execution_count": 1,
   "metadata": {},
   "outputs": [
    {
     "name": "stdout",
     "output_type": "stream",
     "text": [
      "Enter the length from the center to a vertex: 45\n",
      "The area of the pentagon is  7270.667362923647\n"
     ]
    }
   ],
   "source": [
    "import math\n",
    "\n",
    "#3.1\n",
    "r = float(input(\"Enter the length from the center to a vertex: \"))\n",
    "s = float(2 * r * math.sin(math.pi/5))\n",
    "area = ((3 * math.sqrt(3))/2) * (s**2)\n",
    "print(\"The area of the pentagon is \", area)"
   ]
  },
  {
   "cell_type": "code",
   "execution_count": 2,
   "metadata": {},
   "outputs": [
    {
     "name": "stdout",
     "output_type": "stream",
     "text": [
      "Enter the length of a side: 45\n",
      "The area of the pentagon is  3483.966736192658\n"
     ]
    }
   ],
   "source": [
    "#3.4\n",
    "s = float(input(\"Enter the length of a side: \"))\n",
    "tan = math.tan(math.pi/5)\n",
    "numerator = 5 * (s **2)\n",
    "denom = 4 * tan\n",
    "area = numerator/denom\n",
    "print(\"The area of the pentagon is \", area)"
   ]
  },
  {
   "cell_type": "code",
   "execution_count": 3,
   "metadata": {},
   "outputs": [
    {
     "name": "stdout",
     "output_type": "stream",
     "text": [
      "Enter the length of the side: 45\n",
      "Enter the number of sides: 45\n",
      "The area of the polygon is  325787.0531607186\n"
     ]
    }
   ],
   "source": [
    "#3.5\n",
    "s = float(input(\"Enter the length of the side: \"))\n",
    "n = float(input(\"Enter the number of sides: \"))\n",
    "tan = math.tan(math.pi/n)\n",
    "numer = n * (s **2)\n",
    "denom = 4 * tan\n",
    "area = numer / denom\n",
    "print(\"The area of the polygon is \", area)"
   ]
  }
 ],
 "metadata": {
  "kernelspec": {
   "display_name": "Python 3",
   "language": "python",
   "name": "python3"
  },
  "language_info": {
   "codemirror_mode": {
    "name": "ipython",
    "version": 3
   },
   "file_extension": ".py",
   "mimetype": "text/x-python",
   "name": "python",
   "nbconvert_exporter": "python",
   "pygments_lexer": "ipython3",
   "version": "3.8.3"
  }
 },
 "nbformat": 4,
 "nbformat_minor": 4
}

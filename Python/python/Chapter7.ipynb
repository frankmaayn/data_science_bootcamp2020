{
 "cells": [
  {
   "cell_type": "code",
   "execution_count": 1,
   "metadata": {},
   "outputs": [],
   "source": [
    "#7.1\n",
    "\n",
    "class rectangleClass:\n",
    "        def __init__(self, width=1, height =2):\n",
    "            self.width = width\n",
    "            self.height = height\n",
    "        \n",
    "        def getArea(self):\n",
    "            self.area = self.height * self.width\n",
    "            return self.area\n",
    "        \n",
    "        def getPerimeter(self):\n",
    "            self.perimeter = (self.height * 2) + (self.width * 2)\n",
    "            return self.perimeter\n"
   ]
  },
  {
   "cell_type": "code",
   "execution_count": 2,
   "metadata": {},
   "outputs": [],
   "source": [
    "#7.2\n",
    "\n",
    "class stockClass:\n",
    "    def __init__(self, symbol, name, prevPrice, curPrice):\n",
    "        self.__symbol = symbol\n",
    "        self.__name = name\n",
    "        self.__prevPrice = prevPrice\n",
    "        self.__curPrice = curPrice\n",
    "    \n",
    "    def getName(self):\n",
    "        return self.__name\n",
    "    \n",
    "    def getSymbol(self):\n",
    "        return self.__symbol\n",
    "    \n",
    "    def setPrevPrice(self, price):\n",
    "        self.__prevPrice = price\n",
    "    \n",
    "    def getPrevPrice(self):\n",
    "        return self.__prevPrice\n",
    "    \n",
    "    def setCurPrice(self, price):\n",
    "        self.__curPrice = price\n",
    "    \n",
    "    def getCurPrice(self, price):\n",
    "        return self.__curPrice\n",
    "    \n",
    "    def getChangePercent(self):\n",
    "        return (self.__curPrice * 100) / self.__prevPrice\n",
    "\n"
   ]
  },
  {
   "cell_type": "code",
   "execution_count": 4,
   "metadata": {},
   "outputs": [],
   "source": [
    "#main class --- this is used for creating test cases\n",
    "\n",
    "def main():\n",
    "    rec1 = rectangleClass(width=4, height = 40)\n",
    "    rec2 = rectangleClass(width=3.5, height = 35.7)\n",
    "    print(\"Rectangle 1: width= \",rec1.width,\" height= \",rec1.height, \" area= \", rec1.getArea(), \" perimeter= \", rec1.getPerimeter())\n",
    "    print(\"Rectangle 2: width= \",rec2.width,\" height= \",rec2.height, \" area= \", rec2.getArea(), \" perimeter= \", rec2.getPerimeter())\n",
    " "
   ]
  },
  {
   "cell_type": "code",
   "execution_count": 5,
   "metadata": {},
   "outputs": [
    {
     "name": "stdout",
     "output_type": "stream",
     "text": [
      "Rectangle 1: width=  4  height=  40  area=  160  perimeter=  88\n",
      "Rectangle 2: width=  3.5  height=  35.7  area=  124.95000000000002  perimeter=  78.4\n"
     ]
    }
   ],
   "source": [
    "main()"
   ]
  },
  {
   "cell_type": "code",
   "execution_count": null,
   "metadata": {},
   "outputs": [],
   "source": []
  }
 ],
 "metadata": {
  "kernelspec": {
   "display_name": "Python 3",
   "language": "python",
   "name": "python3"
  },
  "language_info": {
   "codemirror_mode": {
    "name": "ipython",
    "version": 3
   },
   "file_extension": ".py",
   "mimetype": "text/x-python",
   "name": "python",
   "nbconvert_exporter": "python",
   "pygments_lexer": "ipython3",
   "version": "3.8.3"
  }
 },
 "nbformat": 4,
 "nbformat_minor": 4
}

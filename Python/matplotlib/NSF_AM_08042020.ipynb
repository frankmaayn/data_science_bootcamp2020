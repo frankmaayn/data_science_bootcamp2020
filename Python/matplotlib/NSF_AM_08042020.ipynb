{
 "cells": [
  {
   "cell_type": "code",
   "execution_count": 1,
   "metadata": {},
   "outputs": [
    {
     "name": "stdout",
     "output_type": "stream",
     "text": [
      " Volume in drive C is SSD\n",
      " Volume Serial Number is 4296-F8CF\n",
      "\n",
      " Directory of C:\\Users\\serde\\Desktop\\data_science_bootcamp2020\\Python\\matplotlib\n",
      "\n",
      "08/04/2020  10:46 AM    <DIR>          .\n",
      "08/04/2020  10:46 AM    <DIR>          ..\n",
      "08/04/2020  10:46 AM    <DIR>          .ipynb_checkpoints\n",
      "07/16/2020  11:07 AM           474,837 16 July 2020 notes.ipynb\n",
      "08/04/2020  10:42 AM           191,873 abalone.data\n",
      "07/14/2020  02:49 PM               348 AnscombesQuartet.csv\n",
      "08/03/2020  10:41 AM           579,043 bank.zip\n",
      "07/14/2020  02:49 PM           367,467 COVID19_line_list_data.csv\n",
      "07/17/2020  12:00 AM            36,699 matplotlib_example.ipynb\n",
      "08/01/2020  07:40 PM           112,044 matplotlib_practice.ipynb\n",
      "08/01/2020  07:19 PM            70,536 NSF_AM_07162020.ipynb\n",
      "08/01/2020  07:58 PM            56,737 NSF_AM_07202020.ipynb\n",
      "08/01/2020  09:12 PM            95,917 NSF_AM_07212020.ipynb\n",
      "08/01/2020  09:48 PM            22,103 NSF_AM_07222020.ipynb\n",
      "08/02/2020  03:01 PM           135,277 NSF_AM_07232020.ipynb\n",
      "08/03/2020  01:19 PM            33,722 NSF_AM_07302020.ipynb\n",
      "08/04/2020  10:45 AM                72 NSF_AM_08042020.ipynb\n",
      "07/18/2020  11:46 PM                21 README.md\n",
      "07/14/2020  02:50 PM             1,013 regression-data-set.csv\n",
      "              16 File(s)      2,177,709 bytes\n",
      "               3 Dir(s)  313,016,545,280 bytes free\n"
     ]
    }
   ],
   "source": [
    "ls"
   ]
  },
  {
   "cell_type": "code",
   "execution_count": 22,
   "metadata": {},
   "outputs": [],
   "source": [
    "import numpy as np\n",
    "import pandas as pd\n",
    "import matplotlib.pyplot as plt\n",
    "from sklearn.model_selection import train_test_split\n",
    "from sklearn.preprocessing import MinMaxScaler\n",
    "from sklearn.neural_network import MLPClassifier as ANN\n",
    "from sklearn.metrics import accuracy_score, roc_curve\n",
    "\n",
    "df = pd.read_csv('abalone.data', header=None)\n"
   ]
  },
  {
   "cell_type": "code",
   "execution_count": 23,
   "metadata": {},
   "outputs": [
    {
     "data": {
      "text/plain": [
       "0     object\n",
       "1    float64\n",
       "2    float64\n",
       "3    float64\n",
       "4    float64\n",
       "5    float64\n",
       "6    float64\n",
       "7    float64\n",
       "8      int64\n",
       "dtype: object"
      ]
     },
     "execution_count": 23,
     "metadata": {},
     "output_type": "execute_result"
    }
   ],
   "source": [
    "\n",
    "df.dtypes\n"
   ]
  },
  {
   "cell_type": "code",
   "execution_count": 24,
   "metadata": {},
   "outputs": [
    {
     "data": {
      "text/html": [
       "<div>\n",
       "<style scoped>\n",
       "    .dataframe tbody tr th:only-of-type {\n",
       "        vertical-align: middle;\n",
       "    }\n",
       "\n",
       "    .dataframe tbody tr th {\n",
       "        vertical-align: top;\n",
       "    }\n",
       "\n",
       "    .dataframe thead th {\n",
       "        text-align: right;\n",
       "    }\n",
       "</style>\n",
       "<table border=\"1\" class=\"dataframe\">\n",
       "  <thead>\n",
       "    <tr style=\"text-align: right;\">\n",
       "      <th></th>\n",
       "      <th>0</th>\n",
       "      <th>1</th>\n",
       "      <th>2</th>\n",
       "      <th>3</th>\n",
       "      <th>4</th>\n",
       "      <th>5</th>\n",
       "      <th>6</th>\n",
       "      <th>7</th>\n",
       "      <th>8</th>\n",
       "    </tr>\n",
       "  </thead>\n",
       "  <tbody>\n",
       "    <tr>\n",
       "      <th>0</th>\n",
       "      <td>M</td>\n",
       "      <td>0.455</td>\n",
       "      <td>0.365</td>\n",
       "      <td>0.095</td>\n",
       "      <td>0.5140</td>\n",
       "      <td>0.2245</td>\n",
       "      <td>0.1010</td>\n",
       "      <td>0.150</td>\n",
       "      <td>15</td>\n",
       "    </tr>\n",
       "    <tr>\n",
       "      <th>1</th>\n",
       "      <td>M</td>\n",
       "      <td>0.350</td>\n",
       "      <td>0.265</td>\n",
       "      <td>0.090</td>\n",
       "      <td>0.2255</td>\n",
       "      <td>0.0995</td>\n",
       "      <td>0.0485</td>\n",
       "      <td>0.070</td>\n",
       "      <td>7</td>\n",
       "    </tr>\n",
       "    <tr>\n",
       "      <th>2</th>\n",
       "      <td>F</td>\n",
       "      <td>0.530</td>\n",
       "      <td>0.420</td>\n",
       "      <td>0.135</td>\n",
       "      <td>0.6770</td>\n",
       "      <td>0.2565</td>\n",
       "      <td>0.1415</td>\n",
       "      <td>0.210</td>\n",
       "      <td>9</td>\n",
       "    </tr>\n",
       "    <tr>\n",
       "      <th>3</th>\n",
       "      <td>M</td>\n",
       "      <td>0.440</td>\n",
       "      <td>0.365</td>\n",
       "      <td>0.125</td>\n",
       "      <td>0.5160</td>\n",
       "      <td>0.2155</td>\n",
       "      <td>0.1140</td>\n",
       "      <td>0.155</td>\n",
       "      <td>10</td>\n",
       "    </tr>\n",
       "    <tr>\n",
       "      <th>4</th>\n",
       "      <td>I</td>\n",
       "      <td>0.330</td>\n",
       "      <td>0.255</td>\n",
       "      <td>0.080</td>\n",
       "      <td>0.2050</td>\n",
       "      <td>0.0895</td>\n",
       "      <td>0.0395</td>\n",
       "      <td>0.055</td>\n",
       "      <td>7</td>\n",
       "    </tr>\n",
       "  </tbody>\n",
       "</table>\n",
       "</div>"
      ],
      "text/plain": [
       "   0      1      2      3       4       5       6      7   8\n",
       "0  M  0.455  0.365  0.095  0.5140  0.2245  0.1010  0.150  15\n",
       "1  M  0.350  0.265  0.090  0.2255  0.0995  0.0485  0.070   7\n",
       "2  F  0.530  0.420  0.135  0.6770  0.2565  0.1415  0.210   9\n",
       "3  M  0.440  0.365  0.125  0.5160  0.2155  0.1140  0.155  10\n",
       "4  I  0.330  0.255  0.080  0.2050  0.0895  0.0395  0.055   7"
      ]
     },
     "execution_count": 24,
     "metadata": {},
     "output_type": "execute_result"
    }
   ],
   "source": [
    "df.head()\n"
   ]
  },
  {
   "cell_type": "code",
   "execution_count": 25,
   "metadata": {},
   "outputs": [],
   "source": [
    "#function to convert columns into 0,1,2\n",
    "\n",
    "def convert_rings(x):\n",
    "    if (x <= 8):\n",
    "        return 0\n",
    "    elif (x == 9 | x == 10):\n",
    "        return 1\n",
    "    else:\n",
    "        return 2"
   ]
  },
  {
   "cell_type": "code",
   "execution_count": 29,
   "metadata": {},
   "outputs": [
    {
     "data": {
      "text/plain": [
       "array([2, 0, 2, ..., 2, 2, 2])"
      ]
     },
     "execution_count": 29,
     "metadata": {},
     "output_type": "execute_result"
    }
   ],
   "source": [
    "#Convert the column rings into your Y array as follows: \n",
    "#if i <= 8 put 0\n",
    "#if i == 9 or 10 put 1\n",
    "#else put 2\n",
    "\n",
    "yVal = np.array([convert_rings(x) for x in df[8]])\n",
    "\n",
    "yVal"
   ]
  },
  {
   "cell_type": "code",
   "execution_count": 31,
   "metadata": {},
   "outputs": [
    {
     "data": {
      "text/plain": [
       "array([[0.455, 0.365, 0.095, ..., 0.   , 0.   , 1.   ],\n",
       "       [0.35 , 0.265, 0.09 , ..., 0.   , 0.   , 1.   ],\n",
       "       [0.53 , 0.42 , 0.135, ..., 1.   , 0.   , 0.   ],\n",
       "       ...,\n",
       "       [0.6  , 0.475, 0.205, ..., 0.   , 0.   , 1.   ],\n",
       "       [0.625, 0.485, 0.15 , ..., 1.   , 0.   , 0.   ],\n",
       "       [0.71 , 0.555, 0.195, ..., 0.   , 0.   , 1.   ]])"
      ]
     },
     "execution_count": 31,
     "metadata": {},
     "output_type": "execute_result"
    }
   ],
   "source": [
    "xVal = pd.get_dummies(df.drop(columns=[8])).to_numpy()\n",
    "xVal"
   ]
  },
  {
   "cell_type": "code",
   "execution_count": null,
   "metadata": {},
   "outputs": [],
   "source": []
  }
 ],
 "metadata": {
  "kernelspec": {
   "display_name": "Python 3",
   "language": "python",
   "name": "python3"
  },
  "language_info": {
   "codemirror_mode": {
    "name": "ipython",
    "version": 3
   },
   "file_extension": ".py",
   "mimetype": "text/x-python",
   "name": "python",
   "nbconvert_exporter": "python",
   "pygments_lexer": "ipython3",
   "version": "3.8.3"
  }
 },
 "nbformat": 4,
 "nbformat_minor": 4
}

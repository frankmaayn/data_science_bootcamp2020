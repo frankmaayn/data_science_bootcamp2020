{
 "cells": [
  {
   "cell_type": "code",
   "execution_count": 1,
   "metadata": {},
   "outputs": [
    {
     "name": "stdout",
     "output_type": "stream",
     "text": [
      " Volume in drive C is SSD\n",
      " Volume Serial Number is 4296-F8CF\n",
      "\n",
      " Directory of C:\\Users\\serde\\Desktop\\data_science_bootcamp2020\\Python\\matplotlib\n",
      "\n",
      "08/03/2020  11:15 AM    <DIR>          .\n",
      "08/03/2020  11:15 AM    <DIR>          ..\n",
      "08/03/2020  11:13 AM    <DIR>          .ipynb_checkpoints\n",
      "07/16/2020  11:07 AM           474,837 16 July 2020 notes.ipynb\n",
      "07/14/2020  02:49 PM               348 AnscombesQuartet.csv\n",
      "08/03/2020  10:41 AM           579,043 bank.zip\n",
      "07/14/2020  02:49 PM           367,467 COVID19_line_list_data.csv\n",
      "07/17/2020  12:00 AM            36,699 matplotlib_example.ipynb\n",
      "08/01/2020  07:40 PM           112,044 matplotlib_practice.ipynb\n",
      "08/01/2020  07:19 PM            70,536 NSF_AM_07162020.ipynb\n",
      "08/01/2020  07:58 PM            56,737 NSF_AM_07202020.ipynb\n",
      "08/01/2020  09:12 PM            95,917 NSF_AM_07212020.ipynb\n",
      "08/01/2020  09:48 PM            22,103 NSF_AM_07222020.ipynb\n",
      "08/02/2020  03:01 PM           135,277 NSF_AM_07232020.ipynb\n",
      "08/03/2020  11:15 AM               569 NSF_AM_07302020.ipynb\n",
      "07/18/2020  11:46 PM                21 README.md\n",
      "07/14/2020  02:50 PM             1,013 regression-data-set.csv\n",
      "              14 File(s)      1,952,611 bytes\n",
      "               3 Dir(s)  322,475,327,488 bytes free\n"
     ]
    }
   ],
   "source": [
    "ls \n"
   ]
  },
  {
   "cell_type": "code",
   "execution_count": 42,
   "metadata": {},
   "outputs": [],
   "source": [
    "import numpy as np\n",
    "import zipfile\n",
    "import pandas as pd\n",
    "import matplotlib.pyplot as plt\n",
    "from sklearn.model_selection import cross_validate, train_test_split\n",
    "from sklearn.metrics import confusion_matrix, accuracy_score, roc_curve\n",
    "from sklearn.preprocessing import MinMaxScaler\n",
    "from sklearn.linear_model import LogisticRegression as LR\n",
    "from sklearn.svm import SVC"
   ]
  },
  {
   "cell_type": "code",
   "execution_count": 8,
   "metadata": {},
   "outputs": [],
   "source": [
    "#read the bank.csv into a dataframe using the following code:\n",
    "with zipfile.ZipFile('bank.zip') as z:\n",
    "    with z.open('bank.csv') as f:\n",
    "        df = pd.read_csv(f, sep=';')"
   ]
  },
  {
   "cell_type": "code",
   "execution_count": 9,
   "metadata": {},
   "outputs": [
    {
     "data": {
      "text/html": [
       "<div>\n",
       "<style scoped>\n",
       "    .dataframe tbody tr th:only-of-type {\n",
       "        vertical-align: middle;\n",
       "    }\n",
       "\n",
       "    .dataframe tbody tr th {\n",
       "        vertical-align: top;\n",
       "    }\n",
       "\n",
       "    .dataframe thead th {\n",
       "        text-align: right;\n",
       "    }\n",
       "</style>\n",
       "<table border=\"1\" class=\"dataframe\">\n",
       "  <thead>\n",
       "    <tr style=\"text-align: right;\">\n",
       "      <th></th>\n",
       "      <th>age</th>\n",
       "      <th>job</th>\n",
       "      <th>marital</th>\n",
       "      <th>education</th>\n",
       "      <th>default</th>\n",
       "      <th>balance</th>\n",
       "      <th>housing</th>\n",
       "      <th>loan</th>\n",
       "      <th>contact</th>\n",
       "      <th>day</th>\n",
       "      <th>month</th>\n",
       "      <th>duration</th>\n",
       "      <th>campaign</th>\n",
       "      <th>pdays</th>\n",
       "      <th>previous</th>\n",
       "      <th>poutcome</th>\n",
       "      <th>y</th>\n",
       "    </tr>\n",
       "  </thead>\n",
       "  <tbody>\n",
       "    <tr>\n",
       "      <th>0</th>\n",
       "      <td>30</td>\n",
       "      <td>unemployed</td>\n",
       "      <td>married</td>\n",
       "      <td>primary</td>\n",
       "      <td>no</td>\n",
       "      <td>1787</td>\n",
       "      <td>no</td>\n",
       "      <td>no</td>\n",
       "      <td>cellular</td>\n",
       "      <td>19</td>\n",
       "      <td>oct</td>\n",
       "      <td>79</td>\n",
       "      <td>1</td>\n",
       "      <td>-1</td>\n",
       "      <td>0</td>\n",
       "      <td>unknown</td>\n",
       "      <td>no</td>\n",
       "    </tr>\n",
       "    <tr>\n",
       "      <th>1</th>\n",
       "      <td>33</td>\n",
       "      <td>services</td>\n",
       "      <td>married</td>\n",
       "      <td>secondary</td>\n",
       "      <td>no</td>\n",
       "      <td>4789</td>\n",
       "      <td>yes</td>\n",
       "      <td>yes</td>\n",
       "      <td>cellular</td>\n",
       "      <td>11</td>\n",
       "      <td>may</td>\n",
       "      <td>220</td>\n",
       "      <td>1</td>\n",
       "      <td>339</td>\n",
       "      <td>4</td>\n",
       "      <td>failure</td>\n",
       "      <td>no</td>\n",
       "    </tr>\n",
       "    <tr>\n",
       "      <th>2</th>\n",
       "      <td>35</td>\n",
       "      <td>management</td>\n",
       "      <td>single</td>\n",
       "      <td>tertiary</td>\n",
       "      <td>no</td>\n",
       "      <td>1350</td>\n",
       "      <td>yes</td>\n",
       "      <td>no</td>\n",
       "      <td>cellular</td>\n",
       "      <td>16</td>\n",
       "      <td>apr</td>\n",
       "      <td>185</td>\n",
       "      <td>1</td>\n",
       "      <td>330</td>\n",
       "      <td>1</td>\n",
       "      <td>failure</td>\n",
       "      <td>no</td>\n",
       "    </tr>\n",
       "    <tr>\n",
       "      <th>3</th>\n",
       "      <td>30</td>\n",
       "      <td>management</td>\n",
       "      <td>married</td>\n",
       "      <td>tertiary</td>\n",
       "      <td>no</td>\n",
       "      <td>1476</td>\n",
       "      <td>yes</td>\n",
       "      <td>yes</td>\n",
       "      <td>unknown</td>\n",
       "      <td>3</td>\n",
       "      <td>jun</td>\n",
       "      <td>199</td>\n",
       "      <td>4</td>\n",
       "      <td>-1</td>\n",
       "      <td>0</td>\n",
       "      <td>unknown</td>\n",
       "      <td>no</td>\n",
       "    </tr>\n",
       "    <tr>\n",
       "      <th>4</th>\n",
       "      <td>59</td>\n",
       "      <td>blue-collar</td>\n",
       "      <td>married</td>\n",
       "      <td>secondary</td>\n",
       "      <td>no</td>\n",
       "      <td>0</td>\n",
       "      <td>yes</td>\n",
       "      <td>no</td>\n",
       "      <td>unknown</td>\n",
       "      <td>5</td>\n",
       "      <td>may</td>\n",
       "      <td>226</td>\n",
       "      <td>1</td>\n",
       "      <td>-1</td>\n",
       "      <td>0</td>\n",
       "      <td>unknown</td>\n",
       "      <td>no</td>\n",
       "    </tr>\n",
       "  </tbody>\n",
       "</table>\n",
       "</div>"
      ],
      "text/plain": [
       "   age          job  marital  education default  balance housing loan  \\\n",
       "0   30   unemployed  married    primary      no     1787      no   no   \n",
       "1   33     services  married  secondary      no     4789     yes  yes   \n",
       "2   35   management   single   tertiary      no     1350     yes   no   \n",
       "3   30   management  married   tertiary      no     1476     yes  yes   \n",
       "4   59  blue-collar  married  secondary      no        0     yes   no   \n",
       "\n",
       "    contact  day month  duration  campaign  pdays  previous poutcome   y  \n",
       "0  cellular   19   oct        79         1     -1         0  unknown  no  \n",
       "1  cellular   11   may       220         1    339         4  failure  no  \n",
       "2  cellular   16   apr       185         1    330         1  failure  no  \n",
       "3   unknown    3   jun       199         4     -1         0  unknown  no  \n",
       "4   unknown    5   may       226         1     -1         0  unknown  no  "
      ]
     },
     "execution_count": 9,
     "metadata": {},
     "output_type": "execute_result"
    }
   ],
   "source": [
    "#Check the data\n",
    "df.head()"
   ]
  },
  {
   "cell_type": "code",
   "execution_count": 10,
   "metadata": {},
   "outputs": [],
   "source": [
    "#Extract the dataframe column labeled 'y' as your Y variable using list comprehension\n",
    "y = np.array([1 if x=='yes' else 0 for x in df['y']])"
   ]
  },
  {
   "cell_type": "code",
   "execution_count": 14,
   "metadata": {},
   "outputs": [],
   "source": [
    "#Use the remaining columns into your x data, Convert the categorical data into numerical using get_dummies and then into a numpy array\n",
    "x = pd.get_dummies(df.loc[:, 'age' : 'poutcome' : 1]).to_numpy()"
   ]
  },
  {
   "cell_type": "code",
   "execution_count": 16,
   "metadata": {},
   "outputs": [
    {
     "data": {
      "text/plain": [
       "array([0, 0, 0, ..., 0, 0, 0])"
      ]
     },
     "execution_count": 16,
     "metadata": {},
     "output_type": "execute_result"
    }
   ],
   "source": [
    "#Values of y\n",
    "y\n"
   ]
  },
  {
   "cell_type": "code",
   "execution_count": 17,
   "metadata": {},
   "outputs": [
    {
     "data": {
      "text/plain": [
       "array([[  30, 1787,   19, ...,    0,    0,    1],\n",
       "       [  33, 4789,   11, ...,    0,    0,    0],\n",
       "       [  35, 1350,   16, ...,    0,    0,    0],\n",
       "       ...,\n",
       "       [  57,  295,   19, ...,    0,    0,    1],\n",
       "       [  28, 1137,    6, ...,    1,    0,    0],\n",
       "       [  44, 1136,    3, ...,    1,    0,    0]], dtype=int64)"
      ]
     },
     "execution_count": 17,
     "metadata": {},
     "output_type": "execute_result"
    }
   ],
   "source": [
    "#Values of x\n",
    "x"
   ]
  },
  {
   "cell_type": "code",
   "execution_count": 40,
   "metadata": {},
   "outputs": [
    {
     "data": {
      "text/plain": [
       "array([[0.16176471, 0.06845546, 0.6       , ..., 0.        , 0.        ,\n",
       "        1.        ],\n",
       "       [0.20588235, 0.10875022, 0.33333333, ..., 0.        , 0.        ,\n",
       "        0.        ],\n",
       "       [0.23529412, 0.06258976, 0.5       , ..., 0.        , 0.        ,\n",
       "        0.        ],\n",
       "       ...,\n",
       "       [0.55882353, 0.04842888, 0.6       , ..., 0.        , 0.        ,\n",
       "        1.        ],\n",
       "       [0.13235294, 0.05973074, 0.16666667, ..., 1.        , 0.        ,\n",
       "        0.        ],\n",
       "       [0.36764706, 0.05971732, 0.06666667, ..., 1.        , 0.        ,\n",
       "        0.        ]])"
      ]
     },
     "execution_count": 40,
     "metadata": {},
     "output_type": "execute_result"
    }
   ],
   "source": [
    "#Scale the data\n",
    "s = MinMaxScaler()\n",
    "s.fit(x)\n",
    "x_data = s.transform(x)\n",
    "x_data"
   ]
  },
  {
   "cell_type": "code",
   "execution_count": 58,
   "metadata": {},
   "outputs": [
    {
     "name": "stdout",
     "output_type": "stream",
     "text": [
      "SVC Prediction shape:  (1131,) \n",
      "SVC Prediction:  [0 1 0 ... 0 0 0] \n",
      "SVC Score:  0.896551724137931\n"
     ]
    }
   ],
   "source": [
    "#Determine the accuracy and make an ROC plot\n",
    "xtrain,xtest,ytrain,ytest = train_test_split(x_data,y)\n",
    "#LR\n",
    "mymodel = LR()\n",
    "mymodel.fit(xtrain,ytrain)\n",
    "ypred = mymodel.predict(xtest)\n",
    "accuracy = accuracy_score(ypred,ytest)\n",
    "probability = mymodel.predict_proba(xtest)[:,1]\n",
    "#SVC\n",
    "SVM = SVC(kernel='linear')\n",
    "SVM.fit(xtrain,ytrain)\n",
    "y_svc_pred = SVM.predict(xtest)\n",
    "svc_probability = SVM.score(xtest,ytest)\n",
    "print(\"SVC Prediction shape: \", y_svc_pred.shape,\"\\nSVC Prediction: \", y_svc_pred, \"\\nSVC Score: \", svc_probability)\n",
    "\n",
    "FPR,TPR,THRESHOLDS = roc_curve(ytest, probability)"
   ]
  },
  {
   "cell_type": "code",
   "execution_count": 59,
   "metadata": {},
   "outputs": [
    {
     "data": {
      "image/png": "[encoded data removed]",
      "text/plain": [
       "<Figure size 432x432 with 1 Axes>"
      ]
     },
     "metadata": {
      "needs_background": "light"
     },
     "output_type": "display_data"
    }
   ],
   "source": [
    "fig, ax = plt.subplots(1,1)\n",
    "ax.plot(FPR,TPR, c='red')\n",
    "ax.plot([0,1],[0,1], c='k',ls='--')\n",
    "ax.set_xlabel('False Positive Rate', fontsize=16)\n",
    "ax.set_ylabel('True Positive Rate', fontsize=16)\n",
    "ax.grid()\n",
    "fig.set_size_inches(6,6)\n",
    "plt.show()"
   ]
  },
  {
   "cell_type": "code",
   "execution_count": null,
   "metadata": {},
   "outputs": [],
   "source": []
  }
 ],
 "metadata": {
  "kernelspec": {
   "display_name": "Python 3",
   "language": "python",
   "name": "python3"
  },
  "language_info": {
   "codemirror_mode": {
    "name": "ipython",
    "version": 3
   },
   "file_extension": ".py",
   "mimetype": "text/x-python",
   "name": "python",
   "nbconvert_exporter": "python",
   "pygments_lexer": "ipython3",
   "version": "3.8.3"
  }
 },
 "nbformat": 4,
 "nbformat_minor": 4
}
